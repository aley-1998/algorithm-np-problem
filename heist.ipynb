{
 "cells": [
  {
   "cell_type": "markdown",
   "id": "94f43011",
   "metadata": {},
   "source": [
    "# Runtime: ~ 48 seconds\n",
    "# Score: $ 3018700"
   ]
  },
  {
   "cell_type": "code",
   "execution_count": 1,
   "id": "5b38dccc",
   "metadata": {},
   "outputs": [],
   "source": [
    "import pandas as pd\n",
    "import numpy as np\n",
    "import math"
   ]
  },
  {
   "cell_type": "code",
   "execution_count": 2,
   "id": "8bced10d",
   "metadata": {
    "scrolled": false
   },
   "outputs": [
    {
     "data": {
      "text/plain": [
       "[8789,\n",
       " 3340,\n",
       " 9510,\n",
       " 8363,\n",
       " 3605,\n",
       " 4379,\n",
       " 361,\n",
       " 8375,\n",
       " 7198,\n",
       " 8125,\n",
       " 8525,\n",
       " 3216,\n",
       " 2748,\n",
       " 6237,\n",
       " 1109,\n",
       " 8200,\n",
       " 2243,\n",
       " 2425,\n",
       " 9418,\n",
       " 1034,\n",
       " 7018,\n",
       " 9629,\n",
       " 7579,\n",
       " 487,\n",
       " 7343,\n",
       " 3239,\n",
       " 424,\n",
       " 8500,\n",
       " 3380,\n",
       " 9636,\n",
       " 370,\n",
       " 8703,\n",
       " 1828,\n",
       " 3193,\n",
       " 6468,\n",
       " 4805,\n",
       " 718,\n",
       " 9861,\n",
       " 299,\n",
       " 3676,\n",
       " 9114]"
      ]
     },
     "execution_count": 2,
     "metadata": {},
     "output_type": "execute_result"
    }
   ],
   "source": [
    "# (x1,x2,y1,y2) -> distance (km)\n",
    "def distance(x_current, x_next, y_current, y_next):\n",
    "    \n",
    "    return math.sqrt((x_next - x_current)**2 + (y_next - y_current)**2)\n",
    "\n",
    "\n",
    "# (money, distance, time_hr) -> ratio\n",
    "def ratio_money_time(money_in_next_bank, distance, rob_time_next_bank):\n",
    "    \n",
    "    travel_time = distance/30\n",
    "    \n",
    "    return money_in_next_bank/(travel_time + rob_time_next_bank)\n",
    "\n",
    "\n",
    "# Main\n",
    "def robber_algorithm(df):\n",
    "    \n",
    "    df.rename(columns = {'time (hr)':'time_hr'}, inplace = True)\n",
    "\n",
    "    result = []\n",
    "    current_loc = [0,0]\n",
    "    remaining_time = 24\n",
    "    while remaining_time > 0:\n",
    "        # Total time for every bank\n",
    "        df['total_time'] = df.apply(lambda row: row.time_hr + \n",
    "                                ((distance(row.x_coordinate, current_loc[0], row.y_coordinate, \n",
    "                                current_loc[0]))),axis = 1)\n",
    "        \n",
    "        \n",
    "        # Drop banks you don't have time for\n",
    "        df = df.drop(df[ df['total_time'] > remaining_time ].index)\n",
    "        \n",
    "        \n",
    "        # Add ratios\n",
    "        df['ratios'] = df.apply(lambda row: ratio_money_time(row.money,distance(current_loc[0],\n",
    "                                            row.x_coordinate, current_loc[1], row.y_coordinate),\n",
    "                                            row.total_time),\n",
    "                                            axis = 1).values.tolist()\n",
    "        \n",
    "        \n",
    "        # Sort by highest ratio\n",
    "        df = df.sort_values('ratios', ascending = False)\n",
    "        \n",
    "        flag = True\n",
    "        while flag == True :\n",
    "            if len(df) == 0:\n",
    "                return result\n",
    "            next_loc = df.iloc[0]\n",
    "            # Check if you have time to rob bank with highest ratio\n",
    "            if remaining_time - next_loc['total_time'] < 0:\n",
    "                df = df.drop(df[ next_loc ].index)\n",
    "                next_loc = df.iloc[float(0)]\n",
    "            else:\n",
    "                result.append(int(next_loc['id']))\n",
    "                remaining_time -= next_loc['total_time']\n",
    "                df = df.tail(df.shape[0]-1)\n",
    "                current_loc = [next_loc['x_coordinate'],next_loc['y_coordinate']]\n",
    "                flag = False\n",
    "\n",
    "    return result\n",
    "\n",
    "df = pd.read_csv(\"../ds-algorithm-project-1-main/data/bank_data.csv\")\n",
    "robber_algorithm(df)"
   ]
  }
 ],
 "metadata": {
  "kernelspec": {
   "display_name": "Python 3 (ipykernel)",
   "language": "python",
   "name": "python3"
  },
  "language_info": {
   "codemirror_mode": {
    "name": "ipython",
    "version": 3
   },
   "file_extension": ".py",
   "mimetype": "text/x-python",
   "name": "python",
   "nbconvert_exporter": "python",
   "pygments_lexer": "ipython3",
   "version": "3.9.13"
  }
 },
 "nbformat": 4,
 "nbformat_minor": 5
}
